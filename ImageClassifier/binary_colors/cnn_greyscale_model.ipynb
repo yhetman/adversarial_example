{
 "cells": [
  {
   "cell_type": "code",
   "execution_count": null,
   "metadata": {},
   "outputs": [],
   "source": [
    "import os\n",
    "import cv2\n",
    "import numpy as np\n",
    "import pandas as pd\n",
    "import matplotlib.pyplot as plt\n",
    "import tensorflow as tf\n",
    "import tqdm\n",
    "import seaborn as sns\n",
    "from sklearn.metrics import accuracy_score\n",
    "\n",
    "\n",
    "from tensorflow import keras\n",
    "from tensorflow.keras import Input, Model, Sequential\n",
    "from tensorflow.keras.regularizers import l2\n",
    "from tensorflow.keras.layers import Dense, Flatten, InputLayer, Reshape, BatchNormalization, Dropout, Conv2D, MaxPooling2D\n",
    "\n",
    "from tensorflow.keras.layers import Dense, Conv2D, Flatten, Dropout, MaxPooling2D, BatchNormalization\n",
    "\n",
    "from tensorflow.keras.utils import plot_model\n",
    "from tensorflow.keras.callbacks import EarlyStopping\n",
    "%matplotlib inline\n"
   ]
  },
  {
   "cell_type": "code",
   "execution_count": null,
   "metadata": {},
   "outputs": [],
   "source": [
    "def build_cnn_model():\n",
    "    cnn_model=tf.keras.Sequential([\n",
    "      Conv2D(filters=16,kernel_size=(3,3),activation='relu', \\\n",
    "             input_shape=intel_train_images.shape[1:]),\n",
    "      MaxPooling2D((2,2), padding='same'),\n",
    "      BatchNormalization(),\n",
    "      Dropout(0.4),\n",
    "\n",
    "      Conv2D(filters=32,kernel_size=(3,3),activation='relu', padding='same'),\n",
    "      Conv2D(filters=32,kernel_size=(3,3),activation='relu', padding='same'),\n",
    "      MaxPooling2D((2,2), padding='same'),\n",
    "      BatchNormalization(),\n",
    "      Dropout(0.4),\n",
    "\n",
    "      Conv2D(filters=64,kernel_size=(3,3),activation='relu', padding='same'),\n",
    "      Conv2D(filters=64,kernel_size=(3,3),activation='relu', padding='same'),\n",
    "      MaxPooling2D((2,2), padding='same'),\n",
    "      BatchNormalization(),\n",
    "      Dropout(0.4),\n",
    "        \n",
    "      Conv2D(filters=128,kernel_size=(3,3),activation='relu', padding='same'),\n",
    "      Conv2D(filters=128,kernel_size=(3,3),activation='relu', padding='same'),\n",
    "      MaxPooling2D((2,2), padding='same'),\n",
    "      BatchNormalization(),\n",
    "      Dropout(0.4),\n",
    "        \n",
    "\n",
    "      Conv2D(filters=64,kernel_size=(3,3),activation='relu', padding='same'),\n",
    "      Conv2D(filters=64,kernel_size=(3,3),activation='relu', padding='same'),\n",
    "      MaxPooling2D((2,2), padding='same'),\n",
    "      BatchNormalization(),\n",
    "      Dropout(0.4),\n",
    "        \n",
    "      Conv2D(filters=32,kernel_size=(3,3),activation='relu', padding='same'),\n",
    "      Conv2D(filters=32,kernel_size=(3,3),activation='relu', padding='same'),\n",
    "      MaxPooling2D((2,2), padding='same'),\n",
    "        \n",
    "      BatchNormalization(),\n",
    "      Dropout(0.4),\n",
    "      Flatten(),\n",
    "\n",
    "      Dense(units=len(categories),activation='softmax')\n",
    "    ])\n",
    "\n",
    "    return cnn_model"
   ]
  },
  {
   "cell_type": "code",
   "execution_count": null,
   "metadata": {},
   "outputs": [],
   "source": [
    "\n",
    "categories = {\n",
    "    'buildings': 0,\n",
    "    'forest': 1,\n",
    "    'glacier': 2,\n",
    "    'mountain': 3,\n",
    "    'sea': 4,\n",
    "    'street': 5\n",
    "}\n",
    "\n",
    "BATCH_SIZE = 16\n",
    "EPOCHS = 30\n",
    "IMG_SIZE = (-1 ,64, 64, 1)\n",
    "img_size = (64, 64)\n",
    "images_train_folder = os.path.join('../', 'intel-image-classification', 'seg_train')\n",
    "images_test_folder = os.path.join('../', 'intel-image-classification', 'seg_test')\n",
    "images_pred_folder = os.path.join('../', 'intel-image-classification', 'seg_pred', 'seg_pred')\n",
    "\n",
    "\n",
    "try:\n",
    "    model = tf.keras.models.load_model(\"./binary_color/intel_image_classifier.h5\")\n",
    "except:\n",
    "    model = build_cnn_model()\n",
    "    \n",
    "print(model.summary())\n",
    "tf.keras.utils.plot_model(model, show_shapes=True)"
   ]
  },
  {
   "cell_type": "code",
   "execution_count": null,
   "metadata": {},
   "outputs": [],
   "source": [
    "def load_images_greayscale(images_folder, img_size = (64,64), scale=True, pred_set=False):\n",
    "    image_path = []\n",
    "    for dirname, _, filenames in os.walk(images_folder):\n",
    "        for filename in filenames:\n",
    "            image_path.append(os.path.join(dirname, filename))\n",
    "    print(\"There are {} images in {}\".format(len(image_path), images_folder))\n",
    "    images = []\n",
    "    labels = []\n",
    "    for path in tqdm.tqdm(image_path):\n",
    "        img = cv2.imread(path, cv2.IMREAD_GRAYSCALE)    \n",
    "        img = cv2.resize(img, img_size)\n",
    "        img = np.array(img)\n",
    "        images.append(img)\n",
    "        \n",
    "        if not pred_set:\n",
    "            labels.append(categories[path.split('/')[-2]]) \n",
    "            \n",
    "    images = np.array(images)  \n",
    "    images = images.astype(np.int64)\n",
    "    \n",
    "    if scale:\n",
    "        images = images / 255\n",
    "        \n",
    "    return image_path, images, np.asarray(labels)"
   ]
  },
  {
   "cell_type": "code",
   "execution_count": null,
   "metadata": {},
   "outputs": [],
   "source": [
    "image_path, intel_train_images, y_train = load_images_greayscale(images_train_folder, img_size=img_size)\n",
    "intel_train_images = np.array(intel_train_images).reshape(IMG_SIZE)\n",
    "\n",
    "_, X_test, y_test = load_images_greayscale(images_test_folder, img_size=img_size)\n",
    "X_test = np.array(X_test).reshape(IMG_SIZE)\n",
    "\n",
    "_, X_pred, y_pred = load_images_greayscale(images_pred_folder, img_size=img_size, scale=True, pred_set=True)\n",
    "X_pred = np.array(X_pred).reshape(IMG_SIZE)"
   ]
  },
  {
   "cell_type": "code",
   "execution_count": null,
   "metadata": {},
   "outputs": [],
   "source": [
    "model.compile(optimizer = \"adam\", loss = \"sparse_categorical_crossentropy\", metrics = [\"accuracy\"])"
   ]
  },
  {
   "cell_type": "code",
   "execution_count": null,
   "metadata": {},
   "outputs": [],
   "source": [
    "\n",
    "checkpoint_filepath = './checkpoints/checkpoint_colors.hdf5'\n",
    "\n",
    "model_checkpoint_callback = tf.keras.callbacks.ModelCheckpoint(\n",
    "    filepath=checkpoint_filepath,\n",
    "    save_weights_only=True,\n",
    "    monitor='val_accuracy',\n",
    "    mode='max',\n",
    "    save_best_only=True,\n",
    "    save_freq=56300)\n",
    "\n",
    "early_stopping = EarlyStopping(\n",
    "    monitor='val_accuracy', \n",
    "    patience=10, \n",
    "    min_delta=0.001, \n",
    "    mode='max',\n",
    "    restore_best_weights=True\n",
    ")\n",
    "\n",
    "history = model.fit(intel_train_images, y_train, \n",
    "                    batch_size = BATCH_SIZE, \n",
    "                    epochs = EPOCHS, \n",
    "                    verbose = 1, \n",
    "                    validation_data = (X_test, y_test),\n",
    "                    callbacks=[model_checkpoint_callback, early_stopping])\n"
   ]
  },
  {
   "cell_type": "code",
   "execution_count": null,
   "metadata": {},
   "outputs": [],
   "source": [
    "model.save(\"./binary_color/intel_image_classifier_binary.h5\")"
   ]
  },
  {
   "cell_type": "code",
   "execution_count": null,
   "metadata": {},
   "outputs": [],
   "source": [
    "plt.plot(history.history[\"accuracy\"])\n",
    "plt.plot(history.history[\"val_accuracy\"])\n",
    "plt.title(\"Model accuracy\")\n",
    "plt.ylabel(\"Accuracy\")\n",
    "plt.xlabel(\"Epoch\")\n",
    "plt.legend([\"Train\", \"Test\"], loc = \"upper left\")\n",
    "plt.show()"
   ]
  },
  {
   "cell_type": "code",
   "execution_count": null,
   "metadata": {},
   "outputs": [],
   "source": [
    "plt.plot(history.history[\"loss\"])\n",
    "plt.plot(history.history[\"val_loss\"])\n",
    "plt.title(\"Model loss\")\n",
    "plt.ylabel(\"Loss\")\n",
    "plt.xlabel(\"Epoch\")\n",
    "plt.legend([\"Train\", \"Test\"], loc = \"upper left\")\n",
    "plt.show()"
   ]
  },
  {
   "cell_type": "markdown",
   "metadata": {},
   "source": [
    "## Prediction check"
   ]
  },
  {
   "cell_type": "code",
   "execution_count": null,
   "metadata": {},
   "outputs": [],
   "source": [
    "_, X_pred, y_pred = load_images_greayscale(images_pred_folder, img_size=img_size, scale=True, pred_set=True)\n",
    "X_pred = np.array(X_pred).reshape(IMG_SIZE)"
   ]
  },
  {
   "cell_type": "code",
   "execution_count": null,
   "metadata": {},
   "outputs": [],
   "source": [
    "def predict_class(img):\n",
    "    img = img.reshape(IMG_SIZE)\n",
    "    predictions = model.predict(img)\n",
    "    true_prediction = [tf.argmax(pred) for pred in predictions]\n",
    "    true_prediction = np.array(true_prediction)\n",
    "    return list(categories.keys())[list(categories.values()).index(true_prediction)]"
   ]
  },
  {
   "cell_type": "code",
   "execution_count": null,
   "metadata": {},
   "outputs": [],
   "source": [
    "model_preds = model.predict(X_test)\n",
    "model_preds=np.argmax(model_preds,axis=1)\n",
    "accuracy_score(y_test, model_preds)"
   ]
  },
  {
   "cell_type": "code",
   "execution_count": null,
   "metadata": {},
   "outputs": [],
   "source": [
    "plt.figure(figsize=(10,10))\n",
    "random_inds = np.random.choice(X_pred.shape[0],36)\n",
    "for i in range(36):\n",
    "    plt.subplot(6,6,i+1)\n",
    "    plt.xticks([])\n",
    "    plt.yticks([])\n",
    "    plt.grid(False)\n",
    "    image_ind = random_inds[i]\n",
    "    plt.imshow(np.squeeze(X_pred[image_ind]. cmap=plt.cm.binary)\n",
    "    label = predict_class(X_pred[image_ind])\n",
    "    plt.xlabel(label)"
   ]
  }
 ],
 "metadata": {
  "kernelspec": {
   "display_name": "Python 3",
   "language": "python",
   "name": "python3"
  },
  "language_info": {
   "codemirror_mode": {
    "name": "ipython",
    "version": 3
   },
   "file_extension": ".py",
   "mimetype": "text/x-python",
   "name": "python",
   "nbconvert_exporter": "python",
   "pygments_lexer": "ipython3",
   "version": "3.7.6"
  }
 },
 "nbformat": 4,
 "nbformat_minor": 4
}
